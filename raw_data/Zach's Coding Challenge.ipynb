{
 "cells": [
  {
   "cell_type": "markdown",
   "metadata": {},
   "source": [
    "### Note: I received four participant CSV files and determined that the second and third file were the same participant, so I removed participant_3.csv from the analysis"
   ]
  },
  {
   "cell_type": "markdown",
   "metadata": {},
   "source": [
    "### Import necessary packages"
   ]
  },
  {
   "cell_type": "code",
   "execution_count": 153,
   "metadata": {},
   "outputs": [],
   "source": [
    "import pandas as pd\n",
    "import numpy as np"
   ]
  },
  {
   "cell_type": "markdown",
   "metadata": {},
   "source": [
    "### Read each participant's CSV file to their own dataframe"
   ]
  },
  {
   "cell_type": "code",
   "execution_count": 154,
   "metadata": {},
   "outputs": [],
   "source": [
    "p1 = pd.read_csv('participant_1.csv')\n",
    "p2 = pd.read_csv('participant_2.csv')\n",
    "p3 = pd.read_csv('participant_4.csv')"
   ]
  },
  {
   "cell_type": "markdown",
   "metadata": {},
   "source": [
    "### Check shape of each file to see the number of datapoints before cleaning"
   ]
  },
  {
   "cell_type": "code",
   "execution_count": 155,
   "metadata": {},
   "outputs": [
    {
     "data": {
      "text/plain": [
       "(35343, 13)"
      ]
     },
     "execution_count": 155,
     "metadata": {},
     "output_type": "execute_result"
    }
   ],
   "source": [
    "p1.shape"
   ]
  },
  {
   "cell_type": "code",
   "execution_count": 156,
   "metadata": {},
   "outputs": [
    {
     "data": {
      "text/plain": [
       "(41423, 13)"
      ]
     },
     "execution_count": 156,
     "metadata": {},
     "output_type": "execute_result"
    }
   ],
   "source": [
    "p2.shape"
   ]
  },
  {
   "cell_type": "code",
   "execution_count": 157,
   "metadata": {},
   "outputs": [
    {
     "data": {
      "text/plain": [
       "(17607, 13)"
      ]
     },
     "execution_count": 157,
     "metadata": {},
     "output_type": "execute_result"
    }
   ],
   "source": [
    "p3.shape"
   ]
  },
  {
   "cell_type": "markdown",
   "metadata": {},
   "source": [
    "## Remove null values and missing data"
   ]
  },
  {
   "cell_type": "code",
   "execution_count": 158,
   "metadata": {},
   "outputs": [],
   "source": [
    "p1test = p1.replace(0,np.nan)"
   ]
  },
  {
   "cell_type": "code",
   "execution_count": 159,
   "metadata": {},
   "outputs": [],
   "source": [
    "p1_c = p1test.dropna(subset=['r_size','r_conf','r_x_pos','r_y_pos','l_size','l_conf','l_x_pos','l_y_pos'])"
   ]
  },
  {
   "cell_type": "code",
   "execution_count": 160,
   "metadata": {},
   "outputs": [],
   "source": [
    "p2test = p2.replace(0,np.nan)"
   ]
  },
  {
   "cell_type": "code",
   "execution_count": 161,
   "metadata": {},
   "outputs": [],
   "source": [
    "p2_c = p2test.dropna(subset=['r_size','r_conf','r_x_pos','r_y_pos','l_size','l_conf','l_x_pos','l_y_pos'])"
   ]
  },
  {
   "cell_type": "code",
   "execution_count": 162,
   "metadata": {},
   "outputs": [],
   "source": [
    "p3test = p3.replace(0,np.nan)"
   ]
  },
  {
   "cell_type": "code",
   "execution_count": 163,
   "metadata": {},
   "outputs": [],
   "source": [
    "p3_c = p3test.dropna(subset=['r_size','r_conf','r_x_pos','r_y_pos','l_size','l_conf','l_x_pos','l_y_pos'])"
   ]
  },
  {
   "cell_type": "markdown",
   "metadata": {},
   "source": [
    "### fix timestamp at 0 seconds"
   ]
  },
  {
   "cell_type": "code",
   "execution_count": 164,
   "metadata": {
    "scrolled": false
   },
   "outputs": [],
   "source": [
    "p1_c.at[0,'timestamp']=0"
   ]
  },
  {
   "cell_type": "code",
   "execution_count": 165,
   "metadata": {},
   "outputs": [],
   "source": [
    "p2_c.at[0,'timestamp']=0"
   ]
  },
  {
   "cell_type": "code",
   "execution_count": 166,
   "metadata": {},
   "outputs": [],
   "source": [
    "p3_c.at[0,'timestamp']=0"
   ]
  },
  {
   "cell_type": "markdown",
   "metadata": {},
   "source": [
    "### Check shape of files post-cleaning to make sure there are still enough datapoints"
   ]
  },
  {
   "cell_type": "code",
   "execution_count": 167,
   "metadata": {},
   "outputs": [
    {
     "data": {
      "text/plain": [
       "(31998, 13)"
      ]
     },
     "execution_count": 167,
     "metadata": {},
     "output_type": "execute_result"
    }
   ],
   "source": [
    "p1_c.shape"
   ]
  },
  {
   "cell_type": "code",
   "execution_count": 168,
   "metadata": {},
   "outputs": [
    {
     "data": {
      "text/plain": [
       "(40453, 13)"
      ]
     },
     "execution_count": 168,
     "metadata": {},
     "output_type": "execute_result"
    }
   ],
   "source": [
    "p2_c.shape"
   ]
  },
  {
   "cell_type": "code",
   "execution_count": 169,
   "metadata": {},
   "outputs": [
    {
     "data": {
      "text/plain": [
       "(16056, 13)"
      ]
     },
     "execution_count": 169,
     "metadata": {},
     "output_type": "execute_result"
    }
   ],
   "source": [
    "p3_c.shape"
   ]
  },
  {
   "cell_type": "code",
   "execution_count": 170,
   "metadata": {},
   "outputs": [
    {
     "data": {
      "text/html": [
       "<div>\n",
       "<style scoped>\n",
       "    .dataframe tbody tr th:only-of-type {\n",
       "        vertical-align: middle;\n",
       "    }\n",
       "\n",
       "    .dataframe tbody tr th {\n",
       "        vertical-align: top;\n",
       "    }\n",
       "\n",
       "    .dataframe thead th {\n",
       "        text-align: right;\n",
       "    }\n",
       "</style>\n",
       "<table border=\"1\" class=\"dataframe\">\n",
       "  <thead>\n",
       "    <tr style=\"text-align: right;\">\n",
       "      <th></th>\n",
       "      <th>timestamp</th>\n",
       "      <th>r_size</th>\n",
       "      <th>r_conf</th>\n",
       "      <th>r_x_pos</th>\n",
       "      <th>r_y_pos</th>\n",
       "      <th>l_size</th>\n",
       "      <th>l_conf</th>\n",
       "      <th>l_x_pos</th>\n",
       "      <th>l_y_pos</th>\n",
       "      <th>block_number</th>\n",
       "      <th>block_type</th>\n",
       "      <th>correct</th>\n",
       "      <th>difficulty</th>\n",
       "    </tr>\n",
       "  </thead>\n",
       "  <tbody>\n",
       "    <tr>\n",
       "      <th>0</th>\n",
       "      <td>0.000</td>\n",
       "      <td>80.5300</td>\n",
       "      <td>0.9406</td>\n",
       "      <td>302.805</td>\n",
       "      <td>158.092</td>\n",
       "      <td>108.69200</td>\n",
       "      <td>0.583333</td>\n",
       "      <td>302.805</td>\n",
       "      <td>158.092</td>\n",
       "      <td>NaN</td>\n",
       "      <td>NaN</td>\n",
       "      <td>NaN</td>\n",
       "      <td>NaN</td>\n",
       "    </tr>\n",
       "    <tr>\n",
       "      <th>1</th>\n",
       "      <td>0.016</td>\n",
       "      <td>80.8112</td>\n",
       "      <td>0.9406</td>\n",
       "      <td>302.514</td>\n",
       "      <td>157.777</td>\n",
       "      <td>65.28710</td>\n",
       "      <td>0.029412</td>\n",
       "      <td>302.514</td>\n",
       "      <td>157.777</td>\n",
       "      <td>NaN</td>\n",
       "      <td>NaN</td>\n",
       "      <td>NaN</td>\n",
       "      <td>NaN</td>\n",
       "    </tr>\n",
       "    <tr>\n",
       "      <th>2</th>\n",
       "      <td>0.032</td>\n",
       "      <td>81.1755</td>\n",
       "      <td>0.9406</td>\n",
       "      <td>302.604</td>\n",
       "      <td>158.067</td>\n",
       "      <td>-1.80625</td>\n",
       "      <td>-1.000000</td>\n",
       "      <td>302.604</td>\n",
       "      <td>158.067</td>\n",
       "      <td>NaN</td>\n",
       "      <td>NaN</td>\n",
       "      <td>NaN</td>\n",
       "      <td>NaN</td>\n",
       "    </tr>\n",
       "    <tr>\n",
       "      <th>5</th>\n",
       "      <td>0.084</td>\n",
       "      <td>82.2844</td>\n",
       "      <td>0.9406</td>\n",
       "      <td>303.238</td>\n",
       "      <td>159.134</td>\n",
       "      <td>53.30460</td>\n",
       "      <td>0.117647</td>\n",
       "      <td>303.238</td>\n",
       "      <td>159.134</td>\n",
       "      <td>NaN</td>\n",
       "      <td>NaN</td>\n",
       "      <td>NaN</td>\n",
       "      <td>NaN</td>\n",
       "    </tr>\n",
       "    <tr>\n",
       "      <th>6</th>\n",
       "      <td>0.100</td>\n",
       "      <td>82.9023</td>\n",
       "      <td>0.9406</td>\n",
       "      <td>302.769</td>\n",
       "      <td>160.591</td>\n",
       "      <td>70.39160</td>\n",
       "      <td>0.029412</td>\n",
       "      <td>302.769</td>\n",
       "      <td>160.591</td>\n",
       "      <td>NaN</td>\n",
       "      <td>NaN</td>\n",
       "      <td>NaN</td>\n",
       "      <td>NaN</td>\n",
       "    </tr>\n",
       "  </tbody>\n",
       "</table>\n",
       "</div>"
      ],
      "text/plain": [
       "   timestamp   r_size  r_conf  r_x_pos  r_y_pos     l_size    l_conf  l_x_pos  \\\n",
       "0      0.000  80.5300  0.9406  302.805  158.092  108.69200  0.583333  302.805   \n",
       "1      0.016  80.8112  0.9406  302.514  157.777   65.28710  0.029412  302.514   \n",
       "2      0.032  81.1755  0.9406  302.604  158.067   -1.80625 -1.000000  302.604   \n",
       "5      0.084  82.2844  0.9406  303.238  159.134   53.30460  0.117647  303.238   \n",
       "6      0.100  82.9023  0.9406  302.769  160.591   70.39160  0.029412  302.769   \n",
       "\n",
       "   l_y_pos  block_number block_type correct  difficulty  \n",
       "0  158.092           NaN        NaN     NaN         NaN  \n",
       "1  157.777           NaN        NaN     NaN         NaN  \n",
       "2  158.067           NaN        NaN     NaN         NaN  \n",
       "5  159.134           NaN        NaN     NaN         NaN  \n",
       "6  160.591           NaN        NaN     NaN         NaN  "
      ]
     },
     "execution_count": 170,
     "metadata": {},
     "output_type": "execute_result"
    }
   ],
   "source": [
    "p1_c.head()"
   ]
  },
  {
   "cell_type": "code",
   "execution_count": 171,
   "metadata": {},
   "outputs": [
    {
     "data": {
      "text/html": [
       "<div>\n",
       "<style scoped>\n",
       "    .dataframe tbody tr th:only-of-type {\n",
       "        vertical-align: middle;\n",
       "    }\n",
       "\n",
       "    .dataframe tbody tr th {\n",
       "        vertical-align: top;\n",
       "    }\n",
       "\n",
       "    .dataframe thead th {\n",
       "        text-align: right;\n",
       "    }\n",
       "</style>\n",
       "<table border=\"1\" class=\"dataframe\">\n",
       "  <thead>\n",
       "    <tr style=\"text-align: right;\">\n",
       "      <th></th>\n",
       "      <th>timestamp</th>\n",
       "      <th>r_size</th>\n",
       "      <th>r_conf</th>\n",
       "      <th>r_x_pos</th>\n",
       "      <th>r_y_pos</th>\n",
       "      <th>l_size</th>\n",
       "      <th>l_conf</th>\n",
       "      <th>l_x_pos</th>\n",
       "      <th>l_y_pos</th>\n",
       "      <th>block_number</th>\n",
       "      <th>block_type</th>\n",
       "      <th>correct</th>\n",
       "      <th>difficulty</th>\n",
       "    </tr>\n",
       "  </thead>\n",
       "  <tbody>\n",
       "    <tr>\n",
       "      <th>0</th>\n",
       "      <td>0.000</td>\n",
       "      <td>100.714</td>\n",
       "      <td>0.9406</td>\n",
       "      <td>322.510</td>\n",
       "      <td>226.556</td>\n",
       "      <td>108.508</td>\n",
       "      <td>0.9142</td>\n",
       "      <td>322.510</td>\n",
       "      <td>226.556</td>\n",
       "      <td>NaN</td>\n",
       "      <td>NaN</td>\n",
       "      <td>NaN</td>\n",
       "      <td>NaN</td>\n",
       "    </tr>\n",
       "    <tr>\n",
       "      <th>1</th>\n",
       "      <td>0.017</td>\n",
       "      <td>101.263</td>\n",
       "      <td>0.9406</td>\n",
       "      <td>321.512</td>\n",
       "      <td>225.195</td>\n",
       "      <td>108.195</td>\n",
       "      <td>0.9142</td>\n",
       "      <td>321.512</td>\n",
       "      <td>225.195</td>\n",
       "      <td>NaN</td>\n",
       "      <td>NaN</td>\n",
       "      <td>NaN</td>\n",
       "      <td>NaN</td>\n",
       "    </tr>\n",
       "    <tr>\n",
       "      <th>2</th>\n",
       "      <td>0.036</td>\n",
       "      <td>101.467</td>\n",
       "      <td>0.9406</td>\n",
       "      <td>319.743</td>\n",
       "      <td>224.022</td>\n",
       "      <td>108.454</td>\n",
       "      <td>0.9142</td>\n",
       "      <td>319.743</td>\n",
       "      <td>224.022</td>\n",
       "      <td>NaN</td>\n",
       "      <td>NaN</td>\n",
       "      <td>NaN</td>\n",
       "      <td>NaN</td>\n",
       "    </tr>\n",
       "    <tr>\n",
       "      <th>3</th>\n",
       "      <td>0.055</td>\n",
       "      <td>101.609</td>\n",
       "      <td>0.9406</td>\n",
       "      <td>317.514</td>\n",
       "      <td>222.572</td>\n",
       "      <td>108.811</td>\n",
       "      <td>0.9142</td>\n",
       "      <td>317.514</td>\n",
       "      <td>222.572</td>\n",
       "      <td>NaN</td>\n",
       "      <td>NaN</td>\n",
       "      <td>NaN</td>\n",
       "      <td>NaN</td>\n",
       "    </tr>\n",
       "    <tr>\n",
       "      <th>4</th>\n",
       "      <td>0.068</td>\n",
       "      <td>101.723</td>\n",
       "      <td>0.9406</td>\n",
       "      <td>314.892</td>\n",
       "      <td>221.805</td>\n",
       "      <td>108.522</td>\n",
       "      <td>0.9142</td>\n",
       "      <td>314.892</td>\n",
       "      <td>221.805</td>\n",
       "      <td>NaN</td>\n",
       "      <td>NaN</td>\n",
       "      <td>NaN</td>\n",
       "      <td>NaN</td>\n",
       "    </tr>\n",
       "  </tbody>\n",
       "</table>\n",
       "</div>"
      ],
      "text/plain": [
       "   timestamp   r_size  r_conf  r_x_pos  r_y_pos   l_size  l_conf  l_x_pos  \\\n",
       "0      0.000  100.714  0.9406  322.510  226.556  108.508  0.9142  322.510   \n",
       "1      0.017  101.263  0.9406  321.512  225.195  108.195  0.9142  321.512   \n",
       "2      0.036  101.467  0.9406  319.743  224.022  108.454  0.9142  319.743   \n",
       "3      0.055  101.609  0.9406  317.514  222.572  108.811  0.9142  317.514   \n",
       "4      0.068  101.723  0.9406  314.892  221.805  108.522  0.9142  314.892   \n",
       "\n",
       "   l_y_pos  block_number block_type correct  difficulty  \n",
       "0  226.556           NaN        NaN     NaN         NaN  \n",
       "1  225.195           NaN        NaN     NaN         NaN  \n",
       "2  224.022           NaN        NaN     NaN         NaN  \n",
       "3  222.572           NaN        NaN     NaN         NaN  \n",
       "4  221.805           NaN        NaN     NaN         NaN  "
      ]
     },
     "execution_count": 171,
     "metadata": {},
     "output_type": "execute_result"
    }
   ],
   "source": [
    "p2_c.head()"
   ]
  },
  {
   "cell_type": "code",
   "execution_count": 172,
   "metadata": {},
   "outputs": [
    {
     "data": {
      "text/html": [
       "<div>\n",
       "<style scoped>\n",
       "    .dataframe tbody tr th:only-of-type {\n",
       "        vertical-align: middle;\n",
       "    }\n",
       "\n",
       "    .dataframe tbody tr th {\n",
       "        vertical-align: top;\n",
       "    }\n",
       "\n",
       "    .dataframe thead th {\n",
       "        text-align: right;\n",
       "    }\n",
       "</style>\n",
       "<table border=\"1\" class=\"dataframe\">\n",
       "  <thead>\n",
       "    <tr style=\"text-align: right;\">\n",
       "      <th></th>\n",
       "      <th>timestamp</th>\n",
       "      <th>r_size</th>\n",
       "      <th>r_conf</th>\n",
       "      <th>r_x_pos</th>\n",
       "      <th>r_y_pos</th>\n",
       "      <th>l_size</th>\n",
       "      <th>l_conf</th>\n",
       "      <th>l_x_pos</th>\n",
       "      <th>l_y_pos</th>\n",
       "      <th>block_number</th>\n",
       "      <th>block_type</th>\n",
       "      <th>correct</th>\n",
       "      <th>difficulty</th>\n",
       "    </tr>\n",
       "  </thead>\n",
       "  <tbody>\n",
       "    <tr>\n",
       "      <th>0</th>\n",
       "      <td>0.000</td>\n",
       "      <td>2506.654815</td>\n",
       "      <td>0.885714</td>\n",
       "      <td>288.806</td>\n",
       "      <td>158.424</td>\n",
       "      <td>12083.412115</td>\n",
       "      <td>0.914000</td>\n",
       "      <td>288.806</td>\n",
       "      <td>158.424</td>\n",
       "      <td>NaN</td>\n",
       "      <td>NaN</td>\n",
       "      <td>NaN</td>\n",
       "      <td>NaN</td>\n",
       "    </tr>\n",
       "    <tr>\n",
       "      <th>1</th>\n",
       "      <td>0.031</td>\n",
       "      <td>2478.761819</td>\n",
       "      <td>0.818182</td>\n",
       "      <td>288.195</td>\n",
       "      <td>158.247</td>\n",
       "      <td>12065.299138</td>\n",
       "      <td>0.932653</td>\n",
       "      <td>288.195</td>\n",
       "      <td>158.247</td>\n",
       "      <td>NaN</td>\n",
       "      <td>NaN</td>\n",
       "      <td>NaN</td>\n",
       "      <td>NaN</td>\n",
       "    </tr>\n",
       "    <tr>\n",
       "      <th>2</th>\n",
       "      <td>0.066</td>\n",
       "      <td>1988.929900</td>\n",
       "      <td>1.000000</td>\n",
       "      <td>284.397</td>\n",
       "      <td>168.938</td>\n",
       "      <td>11935.131846</td>\n",
       "      <td>0.934000</td>\n",
       "      <td>284.397</td>\n",
       "      <td>168.938</td>\n",
       "      <td>NaN</td>\n",
       "      <td>NaN</td>\n",
       "      <td>NaN</td>\n",
       "      <td>NaN</td>\n",
       "    </tr>\n",
       "    <tr>\n",
       "      <th>3</th>\n",
       "      <td>0.098</td>\n",
       "      <td>1960.245206</td>\n",
       "      <td>0.972500</td>\n",
       "      <td>287.666</td>\n",
       "      <td>162.834</td>\n",
       "      <td>11929.400877</td>\n",
       "      <td>0.924286</td>\n",
       "      <td>287.666</td>\n",
       "      <td>162.834</td>\n",
       "      <td>NaN</td>\n",
       "      <td>NaN</td>\n",
       "      <td>NaN</td>\n",
       "      <td>NaN</td>\n",
       "    </tr>\n",
       "    <tr>\n",
       "      <th>4</th>\n",
       "      <td>0.130</td>\n",
       "      <td>2060.917457</td>\n",
       "      <td>1.000000</td>\n",
       "      <td>287.554</td>\n",
       "      <td>161.081</td>\n",
       "      <td>12086.373807</td>\n",
       "      <td>0.934000</td>\n",
       "      <td>287.554</td>\n",
       "      <td>161.081</td>\n",
       "      <td>NaN</td>\n",
       "      <td>NaN</td>\n",
       "      <td>NaN</td>\n",
       "      <td>NaN</td>\n",
       "    </tr>\n",
       "  </tbody>\n",
       "</table>\n",
       "</div>"
      ],
      "text/plain": [
       "   timestamp       r_size    r_conf  r_x_pos  r_y_pos        l_size    l_conf  \\\n",
       "0      0.000  2506.654815  0.885714  288.806  158.424  12083.412115  0.914000   \n",
       "1      0.031  2478.761819  0.818182  288.195  158.247  12065.299138  0.932653   \n",
       "2      0.066  1988.929900  1.000000  284.397  168.938  11935.131846  0.934000   \n",
       "3      0.098  1960.245206  0.972500  287.666  162.834  11929.400877  0.924286   \n",
       "4      0.130  2060.917457  1.000000  287.554  161.081  12086.373807  0.934000   \n",
       "\n",
       "   l_x_pos  l_y_pos  block_number  block_type  correct  difficulty  \n",
       "0  288.806  158.424           NaN         NaN      NaN         NaN  \n",
       "1  288.195  158.247           NaN         NaN      NaN         NaN  \n",
       "2  284.397  168.938           NaN         NaN      NaN         NaN  \n",
       "3  287.666  162.834           NaN         NaN      NaN         NaN  \n",
       "4  287.554  161.081           NaN         NaN      NaN         NaN  "
      ]
     },
     "execution_count": 172,
     "metadata": {},
     "output_type": "execute_result"
    }
   ],
   "source": [
    "p3_c.head()"
   ]
  },
  {
   "cell_type": "code",
   "execution_count": null,
   "metadata": {},
   "outputs": [],
   "source": []
  }
 ],
 "metadata": {
  "kernelspec": {
   "display_name": "Python 3",
   "language": "python",
   "name": "python3"
  },
  "language_info": {
   "codemirror_mode": {
    "name": "ipython",
    "version": 3
   },
   "file_extension": ".py",
   "mimetype": "text/x-python",
   "name": "python",
   "nbconvert_exporter": "python",
   "pygments_lexer": "ipython3",
   "version": "3.6.5"
  }
 },
 "nbformat": 4,
 "nbformat_minor": 2
}
